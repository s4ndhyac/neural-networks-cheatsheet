{
 "cells": [
  {
   "cell_type": "markdown",
   "metadata": {},
   "source": [
    "## CS 273P Homework #4 (28th May 2019)\n",
    "\n",
    "## Sandhya Chandramohan (Student ID: 61167891)\n",
    "\n",
    "\n",
    "### 1: Warm-up: Decision Tree\n"
   ]
  },
  {
   "cell_type": "markdown",
   "metadata": {},
   "source": [
    "### 2: Setting up the data\n",
    "\n",
    "**1. The data is loaded from X_train.txt and Y_train.txt into X and Y. Then for each of the 14 features the Min, Max, Mean and Variance is calculated using the numpy functions min, max, mean and var**"
   ]
  },
  {
   "cell_type": "code",
   "execution_count": 26,
   "metadata": {},
   "outputs": [
    {
     "name": "stdout",
     "output_type": "stream",
     "text": [
      "X shape: (200000, 14)\n",
      "Y Shape: (200000,)\n",
      "\n",
      "Feature  1\n",
      "Min is: 193.0\n",
      "Max is: 253.0\n",
      "Mean is: 241.79722040000001\n",
      "Variance is: 82.69456190782384\n",
      "\n",
      "Feature  2\n",
      "Min is: 190.0\n",
      "Max is: 250.5\n",
      "Mean is: 228.22826004999996\n",
      "Variance is: 90.95739454607398\n",
      "\n",
      "Feature  3\n",
      "Min is: 214.97\n",
      "Max is: 252.5\n",
      "Mean is: 241.79629755000002\n",
      "Variance is: 35.72557959436399\n",
      "\n",
      "Feature  4\n",
      "Min is: 205.42\n",
      "Max is: 252.5\n",
      "Mean is: 233.64929865000005\n",
      "Variance is: 95.26085391860819\n",
      "\n",
      "Feature  5\n",
      "Min is: 10.0\n",
      "Max is: 17130.0\n",
      "Mean is: 2867.97959\n",
      "Variance is: 10619418.044443434\n",
      "\n",
      "Feature  6\n",
      "Min is: 0.0\n",
      "Max is: 12338.0\n",
      "Mean is: 884.073295\n",
      "Variance is: 3257029.8456128417\n",
      "\n",
      "Feature  7\n",
      "Min is: 0.0\n",
      "Max is: 9238.0\n",
      "Mean is: 173.553355\n",
      "Variance is: 740656.133623244\n",
      "\n",
      "Feature  8\n",
      "Min is: 0.0\n",
      "Max is: 35.796\n",
      "Mean is: 3.0471957174499997\n",
      "Variance is: 7.422442772290731\n",
      "\n",
      "Feature  9\n",
      "Min is: 0.68146\n",
      "Max is: 19.899\n",
      "Mean is: 6.351967218049999\n",
      "Variance is: 6.3322991319398545\n",
      "\n",
      "Feature  10\n",
      "Min is: 0.0\n",
      "Max is: 11.368\n",
      "Mean is: 1.9252323192099996\n",
      "Variance is: 4.284487034670785\n",
      "\n",
      "Feature  11\n",
      "Min is: 0.0\n",
      "Max is: 21.466\n",
      "Mean is: 4.2937934886999995\n",
      "Variance is: 4.046840868867377\n",
      "\n",
      "Feature  12\n",
      "Min is: 0.0\n",
      "Max is: 14.745\n",
      "Mean is: 2.809471779\n",
      "Variance is: 1.9821830277466974\n",
      "\n",
      "Feature  13\n",
      "Min is: 1.0074\n",
      "Max is: 278.71\n",
      "Mean is: 10.3679146455\n",
      "Variance is: 166.67925177399366\n",
      "\n",
      "Feature  14\n",
      "Min is: -999.9\n",
      "Max is: 782.5\n",
      "Mean is: 7.8733445\n",
      "Variance is: 1410.79679273432\n",
      "\n"
     ]
    },
    {
     "data": {
      "text/plain": [
       "<Figure size 432x288 with 0 Axes>"
      ]
     },
     "metadata": {},
     "output_type": "display_data"
    }
   ],
   "source": [
    "import numpy as np\n",
    "import matplotlib.pyplot as plt\n",
    "import mltools as ml\n",
    "import warnings\n",
    "warnings.filterwarnings('ignore')\n",
    "%matplotlib inline\n",
    "np.random.seed(0)\n",
    "plt.set_cmap('RdYlBu')\n",
    "\n",
    "# Data Loading\n",
    "X = np.genfromtxt(\"data/X_train.txt\", delimiter=None)\n",
    "Y = np.genfromtxt(\"data/Y_train.txt\", delimiter=None)\n",
    "X,Y = ml.shuffleData(X,Y)\n",
    "\n",
    "print(\"X shape:\", X.shape)\n",
    "print(\"Y Shape:\", Y.shape)\n",
    "print(\"\")\n",
    "\n",
    "for i in range(X.shape[1]):\n",
    "    print(\"Feature \", (i + 1))\n",
    "    print(\"Min is:\", np.min(X[:,i]))\n",
    "    print(\"Max is:\", np.max(X[:,i]))\n",
    "    print(\"Mean is:\", np.mean(X[:,i]))\n",
    "    print(\"Variance is:\", np.var(X[:,i]))\n",
    "    print(\"\")"
   ]
  },
  {
   "cell_type": "markdown",
   "metadata": {},
   "source": [
    "**2. The dataset is split and rescaled. And the Min, Max, Mean and Variance calculated again as above for each feature on the Training dataset first and then the validation dataset split** "
   ]
  },
  {
   "cell_type": "code",
   "execution_count": 19,
   "metadata": {
    "scrolled": false
   },
   "outputs": [
    {
     "name": "stdout",
     "output_type": "stream",
     "text": [
      "Training dataset\n",
      "Feature  1\n",
      "Min is: -4.818939046804196\n",
      "Max is: 1.2409134583963124\n",
      "Mean is: 8.525091743649682e-15\n",
      "Variance is: 1.0000000000000084\n",
      "\n",
      "Feature  2\n",
      "Min is: -4.047801731597284\n",
      "Max is: 1.7730564843396925\n",
      "Mean is: -2.587796643638285e-15\n",
      "Variance is: 0.9999999999999909\n",
      "\n",
      "Feature  3\n",
      "Min is: -4.470159318284174\n",
      "Max is: 1.6383828295900136\n",
      "Mean is: 7.045031225061393e-14\n",
      "Variance is: 1.0000000000000022\n",
      "\n",
      "Feature  4\n",
      "Min is: -2.9213702027911226\n",
      "Max is: 1.8496779376337629\n",
      "Mean is: 1.2305179097893415e-14\n",
      "Variance is: 1.0000000000000069\n",
      "\n",
      "Feature  5\n",
      "Min is: -0.8715026483939501\n",
      "Max is: 4.343167416577226\n",
      "Mean is: -9.947598300641403e-18\n",
      "Variance is: 1.0000000000000009\n",
      "\n",
      "Feature  6\n",
      "Min is: -0.4922538921932821\n",
      "Max is: 6.319868971169319\n",
      "Mean is: 2.842170943040401e-17\n",
      "Variance is: 0.9999999999999635\n",
      "\n",
      "Feature  7\n",
      "Min is: -0.19471327667452204\n",
      "Max is: 10.221210261336974\n",
      "Mean is: -8.526512829121201e-18\n",
      "Variance is: 0.9999999999999502\n",
      "\n",
      "Feature  8\n",
      "Min is: -1.1228585319673248\n",
      "Max is: 9.628308233417965\n",
      "Mean is: -1.1894485396624077e-15\n",
      "Variance is: 1.000000000000001\n",
      "\n",
      "Feature  9\n",
      "Min is: -1.9266519569779776\n",
      "Max is: 4.749631651947061\n",
      "Mean is: -2.0037305148434825e-16\n",
      "Variance is: 0.9999999999999972\n",
      "\n",
      "Feature  10\n",
      "Min is: -0.9423496972772152\n",
      "Max is: 4.600194842112348\n",
      "Mean is: 9.72022462519817e-16\n",
      "Variance is: 1.0000000000000022\n",
      "\n",
      "Feature  11\n",
      "Min is: -2.0975485557747455\n",
      "Max is: 6.731352231108986\n",
      "Mean is: -2.0961010704922954e-16\n",
      "Variance is: 0.9999999999999974\n",
      "\n",
      "Feature  12\n",
      "Min is: -1.9572698532946207\n",
      "Max is: 5.406717869082252\n",
      "Mean is: 6.181721801112871e-16\n",
      "Variance is: 0.9999999999999966\n",
      "\n",
      "Feature  13\n",
      "Min is: -0.6920351949696376\n",
      "Max is: 14.41438766853028\n",
      "Mean is: -2.55298004958604e-15\n",
      "Variance is: 0.9999999999999764\n",
      "\n",
      "Feature  14\n",
      "Min is: -25.536857210609305\n",
      "Max is: 10.648593794502125\n",
      "Mean is: -1.4921397450962103e-17\n",
      "Variance is: 1.000000000000066\n",
      "\n"
     ]
    }
   ],
   "source": [
    "Xtr, Xva, Ytr, Yva = ml.splitData(X, Y)\n",
    "Xt, Yt = Xtr[:5000], Ytr[:5000] # subsample for efficiency (you can go higher)\n",
    "XtS, params = ml.rescale(Xt) # Normalize the features\n",
    "XvS, _ = ml.rescale(Xva, params) # Normalize the features\n",
    "\n",
    "print(\"Training dataset\")\n",
    "for i in range(XtS.shape[1]):\n",
    "    print(\"Feature \", (i + 1))\n",
    "    print(\"Min is:\", np.min(XtS[:,i]))\n",
    "    print(\"Max is:\", np.max(XtS[:,i]))\n",
    "    print(\"Mean is:\", np.mean(XtS[:,i]))\n",
    "    print(\"Variance is:\", np.var(XtS[:,i]))\n",
    "    print(\"\")"
   ]
  },
  {
   "cell_type": "code",
   "execution_count": 20,
   "metadata": {},
   "outputs": [
    {
     "name": "stdout",
     "output_type": "stream",
     "text": [
      "Validation dataset\n",
      "Feature  1\n",
      "Min is: -5.149476456178769\n",
      "Max is: 1.2409134583963124\n",
      "Mean is: 0.012061089709813785\n",
      "Variance is: 0.9913944025955781\n",
      "\n",
      "Feature  2\n",
      "Min is: -4.047801731597284\n",
      "Max is: 2.0905578415726187\n",
      "Mean is: 0.0004848774893849569\n",
      "Variance is: 1.0159637940298878\n",
      "\n",
      "Feature  3\n",
      "Min is: -4.525798813420762\n",
      "Max is: 1.7446036839416756\n",
      "Mean is: 0.0005648251779721797\n",
      "Variance is: 1.0194095618465853\n",
      "\n",
      "Feature  4\n",
      "Min is: -2.9213702027911226\n",
      "Max is: 1.914864672148351\n",
      "Mean is: 0.0008406760654843968\n",
      "Variance is: 1.0147322100590273\n",
      "\n",
      "Feature  5\n",
      "Min is: -0.8715026483939501\n",
      "Max is: 4.343167416577226\n",
      "Mean is: 0.00345974473907564\n",
      "Variance is: 0.9800567562713371\n",
      "\n",
      "Feature  6\n",
      "Min is: -0.4922538921932821\n",
      "Max is: 6.319868971169319\n",
      "Mean is: -0.003762071872781631\n",
      "Variance is: 0.992217422615728\n",
      "\n",
      "Feature  7\n",
      "Min is: -0.19471327667452204\n",
      "Max is: 10.221210261336974\n",
      "Mean is: 0.0013033998278784652\n",
      "Variance is: 0.9244839538098364\n",
      "\n",
      "Feature  8\n",
      "Min is: -1.1228585319673248\n",
      "Max is: 9.628308233417965\n",
      "Mean is: 0.016479575363975766\n",
      "Variance is: 1.032007807411151\n",
      "\n",
      "Feature  9\n",
      "Min is: -2.005282898526158\n",
      "Max is: 5.47297173025476\n",
      "Mean is: 0.0019514651696050838\n",
      "Variance is: 1.0280010399278603\n",
      "\n",
      "Feature  10\n",
      "Min is: -0.9423496972772152\n",
      "Max is: 4.654847275609039\n",
      "Mean is: 0.0012308738108755496\n",
      "Variance is: 1.0383603810036754\n",
      "\n",
      "Feature  11\n",
      "Min is: -2.0975485557747455\n",
      "Max is: 7.138013793479688\n",
      "Mean is: -0.009367915309848065\n",
      "Variance is: 0.9620211200094978\n",
      "\n",
      "Feature  12\n",
      "Min is: -1.9572698532946207\n",
      "Max is: 8.357349598253492\n",
      "Mean is: 0.0015989697540828307\n",
      "Variance is: 0.9786430896693193\n",
      "\n",
      "Feature  13\n",
      "Min is: -0.6962181828190195\n",
      "Max is: 20.082747768542262\n",
      "Mean is: 0.00492669409243774\n",
      "Variance is: 0.9164421388178984\n",
      "\n",
      "Feature  14\n",
      "Min is: -25.536857210609305\n",
      "Max is: 19.30147113087884\n",
      "Mean is: 0.008693746594446156\n",
      "Variance is: 0.7988412265983297\n",
      "\n"
     ]
    }
   ],
   "source": [
    "print(\"Validation dataset\")\n",
    "for i in range(XvS.shape[1]):\n",
    "    print(\"Feature \", (i + 1))\n",
    "    print(\"Min is:\", np.min(XvS[:,i]))\n",
    "    print(\"Max is:\", np.max(XvS[:,i]))\n",
    "    print(\"Mean is:\", np.mean(XvS[:,i]))\n",
    "    print(\"Variance is:\", np.var(XvS[:,i]))\n",
    "    print(\"\")"
   ]
  },
  {
   "cell_type": "markdown",
   "metadata": {},
   "source": [
    "### 3: Linear Classifiers\n",
    "\n",
    "**1. We generate 9 evenly spaced numbers between 0 and 8 inclusive as values of Regularization to plot the AUC against. For each value of regualarization on the X-axis we plot the training and validation AUC against it on the Y-axis in the plot using the linear classifier in the mltools library. The function `PlotAUC` is written for the same.** "
   ]
  },
  {
   "cell_type": "code",
   "execution_count": 21,
   "metadata": {},
   "outputs": [
    {
     "data": {
      "image/png": "[encoded data removed]",
      "text/plain": [
       "<Figure size 432x288 with 1 Axes>"
      ]
     },
     "metadata": {
      "needs_background": "light"
     },
     "output_type": "display_data"
    },
    {
     "name": "stdout",
     "output_type": "stream",
     "text": [
      "Train AUC: [0.6519364  0.58046562 0.55915313 0.55567033 0.50535333 0.50535333\n",
      " 0.50535333 0.50535333]\n",
      "Validation AUC: [0.63467014 0.55919446 0.53600031 0.53228095 0.49821174 0.49821174\n",
      " 0.49821174 0.49821174]\n"
     ]
    }
   ],
   "source": [
    "\n",
    "def PlotAUC(XtS, Yt, XvS, Yva):\n",
    "    regValues = np.linspace( 0, 8, 8 )\n",
    "\n",
    "    tr_auc = np.zeros(regValues.shape[0])\n",
    "    va_auc = np.zeros(regValues.shape[0])\n",
    "\n",
    "    for i, reg in enumerate(regValues):\n",
    "        learner = ml.linearC.linearClassify()\n",
    "        learner.train(XtS, Yt, reg=reg, initStep=0.5, stopTol=1e-6, stopIter=100)\n",
    "        tr_auc[i] = learner.auc(XtS, Yt) # train AUC\n",
    "        va_auc[i] = learner.auc(XvS, Yva)\n",
    "\n",
    "    plt.plot(regValues, tr_auc, marker='o', \n",
    "             color = \"r\", label = \"Training AUC\")\n",
    "    plt.plot(regValues, va_auc, marker='^', \n",
    "             color = \"b\", label = \"Validation AUC\")\n",
    "\n",
    "    plt.xticks(regValues)\n",
    "    plt.xlabel(\"Regularization Weight\")\n",
    "    plt.ylabel(\"AUC\")\n",
    "    plt.title(\"Plot of Training & Validation AUC vs. Regularizatin weight\")\n",
    "    plt.legend()\n",
    "    plt.show()\n",
    "\n",
    "    print (\"Train AUC:\",tr_auc)\n",
    "    print (\"Validation AUC:\", va_auc)\n",
    "    print (\"Regularization weights:\", regValues)\n",
    "    \n",
    "PlotAUC(XtS, Yt, XvS, Yva)"
   ]
  },
  {
   "cell_type": "markdown",
   "metadata": {},
   "source": [
    "**2. The function `AddPolyFeatures` adds polynomial features of degree 2 to the train and validation datasets using the mltools `fpoly` function. The no. of features is then printed out.** "
   ]
  },
  {
   "cell_type": "code",
   "execution_count": 27,
   "metadata": {},
   "outputs": [
    {
     "name": "stdout",
     "output_type": "stream",
     "text": [
      "Number of Features: 119\n"
     ]
    }
   ],
   "source": [
    "def AddPolyFeatures(Xtr, Xva):\n",
    "    XtrP = ml.transforms.fpoly(Xtr, degree, bias=False)\n",
    "    XtrP,params = ml.transforms.rescale(XtrP)\n",
    "    XvaP,_ = ml.transforms.rescale(ml.transforms.fpoly(Xva,degree,False), params)\n",
    "    return XtrP, XvaP\n",
    "\n",
    "degree = 2\n",
    "XtP, XvaP = AddPolyFeatures(Xt, Xva)\n",
    "\n",
    "print (\"Number of Features in train:\", XtP.shape[1])\n",
    "print (\"Number of Features in validation:\", XvaP.shape[1])"
   ]
  },
  {
   "cell_type": "markdown",
   "metadata": {},
   "source": [
    "**The no. of features is 119 because:\n",
    "no. of original featuers = 14\n",
    "no. of degree 2 features added = 14\n",
    "and no. of combinations of any two of the 14 features = (14 x 13)/2\n",
    "Therefore, total no. of features = 14 + 14 + 91 = 119**"
   ]
  },
  {
   "cell_type": "markdown",
   "metadata": {},
   "source": [
    "**3.Now we use the `PlotAUC` function defined above to plot the AUC of the training and validation dataset after adding degree 2 polynomial features against the regularization weights.** "
   ]
  },
  {
   "cell_type": "code",
   "execution_count": 24,
   "metadata": {},
   "outputs": [
    {
     "data": {
      "image/png": "[encoded data removed]",
      "text/plain": [
       "<Figure size 432x288 with 1 Axes>"
      ]
     },
     "metadata": {
      "needs_background": "light"
     },
     "output_type": "display_data"
    },
    {
     "name": "stdout",
     "output_type": "stream",
     "text": [
      "Train AUC: [0.50535333 0.55775296 0.55512413 0.5607587  0.50535333 0.50535333\n",
      " 0.50535333 0.50535333]\n",
      "Validation AUC: [0.49821174 0.53927667 0.53645222 0.54177358 0.49821174 0.49821174\n",
      " 0.49821174 0.49821174]\n"
     ]
    }
   ],
   "source": [
    "PlotAUC(XtP, Yt, XvaP, Yva)"
   ]
  },
  {
   "cell_type": "markdown",
   "metadata": {},
   "source": [
    "### 4: Nearest Neighbors \n",
    "\n",
    "**1. The function `PlotkNN` plots the AUC of the sub-sampled rescaled training and validation datasets Xts, Yt, Xvs, Yva against a range of values of K for the kNN classifier, with the value of alpha chosen as 0.** "
   ]
  },
  {
   "cell_type": "code",
   "execution_count": null,
   "metadata": {},
   "outputs": [],
   "source": [
    "def PlotkNN(XtS, Yt, XvS, Yva):\n",
    "    kValues = np.array([1,2,3,5,8,10,20])\n",
    "    tr_auc = np.zeros(kValues.shape[0])\n",
    "    va_auc = np.zeros(kValues.shape[0])\n",
    "\n",
    "    learner = ml.knn.knnClassify()\n",
    "\n",
    "    for i, k in enumerate(kValues):\n",
    "        learner.train(XtS, Yt, K=k, alpha=0.0)\n",
    "        tr_auc[i] = learner.auc(XtS, Yt)\n",
    "        va_auc[i] = learner.auc(XvS, Yva)\n",
    "\n",
    "    plt.plot(kValues, tr_auc, marker='o', \n",
    "             color = \"r\", label = \"Training AUC\")\n",
    "    plt.plot(kValues, va_auc, marker='^', \n",
    "             color = \"b\", label = \"Validation AUC\")\n",
    "    plt.xticks(kValues)\n",
    "    plt.xlabel(\"Value of K\")\n",
    "    plt.ylabel(\"AUC\")\n",
    "    plt.title(\"Plot of Training & Validation AUC vs. K on Rescaled Data\")\n",
    "    plt.legend()\n",
    "    plt.show()\n",
    "\n",
    "    print (\"Train AUC:\",tr_auc)\n",
    "    print (\"Validation AUC:\", va_auc)\n",
    "    print (\"K Values:\", kValues)\n",
    "    \n",
    "PlotkNN(XtS, Yt, XvS, Yva)"
   ]
  },
  {
   "cell_type": "markdown",
   "metadata": {},
   "source": [
    "**2. The function `PlotkNN` defined above is called again, this time with the unscaled/original data Xt, Yt, Xva, Yva to show the plots for the same range of values of K as above.** "
   ]
  },
  {
   "cell_type": "code",
   "execution_count": null,
   "metadata": {},
   "outputs": [],
   "source": [
    "PlotkNN(Xt, Yt, Xva, Yva)"
   ]
  },
  {
   "cell_type": "markdown",
   "metadata": {},
   "source": [
    "**3. For a range of values of K between 1 to 25 and alpha A between 0 to 5, we plot the AUC of the unscaled training and validation datasets in a 2-dimensional plot to select the best values of K and alpha.**"
   ]
  },
  {
   "cell_type": "code",
   "execution_count": null,
   "metadata": {},
   "outputs": [],
   "source": [
    "K = range(1,25,5) \n",
    "A = range(0,5,1)\n",
    "\n",
    "tr_auc = np.zeros((len(K),len(A)))\n",
    "va_auc = np.zeros((len(K),len(A)))\n",
    "\n",
    "learner = ml.knn.knnClassify()\n",
    "for i,k in enumerate(K):\n",
    "    for j,a in enumerate(A):\n",
    "        learner.train(Xt, Yt, K=k, alpha=a)\n",
    "        tr_auc[i][j] = learner.auc(Xt, Yt) \n",
    "        va_auc[i][j] = learner.auc(Xva, Yva)\n",
    "\n",
    "# Now plot it\n",
    "f, ax = plt.subplots(1, 1, figsize=(8, 5))\n",
    "cax1 = ax.matshow(tr_auc, interpolation='nearest')\n",
    "f.colorbar(cax1)\n",
    "ax.set_xticklabels(['']+K)\n",
    "ax.set_yticklabels(['']+A)\n",
    "ax.set_xlabel(\"Value of K\")\n",
    "ax.set_ylabel(\"Value of A\")\n",
    "ax.set_title(\"Training AUC for Unscaled Data\")\n",
    "\n",
    "plt.show()\n",
    "\n",
    "print (\"Train AUC:\",tr_auc)"
   ]
  },
  {
   "cell_type": "code",
   "execution_count": null,
   "metadata": {},
   "outputs": [],
   "source": [
    "f, ax = plt.subplots(1, 1, figsize=(8, 5))\n",
    "cax2 = ax.matshow(va_auc, interpolation='nearest')\n",
    "f.colorbar(cax2)\n",
    "ax.set_xticklabels(['']+K)\n",
    "ax.set_yticklabels(['']+A)\n",
    "ax.set_xlabel(\"Value of K\")\n",
    "ax.set_ylabel(\"Value of A\")\n",
    "ax.set_title(\"Validation AUC for Unscaled Data\")\n",
    "\n",
    "plt.show()\n",
    "\n",
    "print (\"Validation AUC:\",va_auc)"
   ]
  },
  {
   "cell_type": "markdown",
   "metadata": {},
   "source": [
    "**The best value of K is: \n",
    "  The best value for alpha is: **"
   ]
  },
  {
   "cell_type": "markdown",
   "metadata": {},
   "source": [
    "### 5: Decision Trees \n",
    "\n",
    "**1. Keeping the values of minParet=2 and minLeaf=1 as constant, the value of maxDepth is varied between 1 to 30 and the AUC curve of training and Validation dataset is plotted for a Decision Tree classifier.**"
   ]
  },
  {
   "cell_type": "code",
   "execution_count": null,
   "metadata": {},
   "outputs": [],
   "source": [
    "maxdValues = np.array(range(1,30,3))\n",
    "tr_auc = np.zeros(maxdValues.shape[0])\n",
    "va_auc = np.zeros(maxdValues.shape[0])\n",
    "\n",
    "learner = ml.dtree.treeClassify()\n",
    "for i, d in enumerate(maxdValues): \n",
    "    learner.train(XtS, Yt, maxDepth = d, minParent = 2, minLeaf= 1)\n",
    "    tr_auc[i] = learner.auc(XtS, Yt)\n",
    "    va_auc[i] = learner.auc(XvS, Yva)\n",
    "    \n",
    "plt.plot(maxdValues, tr_auc, marker='^', \n",
    "         color = \"r\", label = \"Training AUC\")\n",
    "plt.plot(maxdValues, va_auc, marker='o', \n",
    "         color = \"b\", label = \"Validation AUC\")\n",
    "plt.xticks(maxdValues)\n",
    "plt.xlabel(\"maxDepth\")\n",
    "plt.ylabel(\"AUC\")\n",
    "plt.title(\"Plot of Training & Validation AUC vs. maxDepth\")\n",
    "plt.legend()\n",
    "plt.show()\n",
    "\n",
    "print (\"Train AUC:\", tr_auc)\n",
    "print (\"Validation AUC:\", va_auc)\n",
    "print (\"Max Depth values:\", maxdValues)"
   ]
  },
  {
   "cell_type": "markdown",
   "metadata": {},
   "source": [
    "**2. For the decision tree classifier the no. of nodes (using `learner.sz`) is plotted against a range of maxDepth values between 1 to 30. In the same plot another line is plotted where in the value of the minParent parameter is increased to 4 from 2 in the previous case.** "
   ]
  },
  {
   "cell_type": "code",
   "execution_count": null,
   "metadata": {},
   "outputs": [],
   "source": [
    "## number of nodes in the tree as maxDepth is varied\n",
    "maxdValues = np.array(range(1,30,3))\n",
    "Nodes = np.zeros(maxdValues.shape[0])\n",
    "\n",
    "learner = ml.dtree.treeClassify()\n",
    "for i, d in enumerate(maxdValues): \n",
    "    learner.train(Xt, Yt, maxDepth = d)\n",
    "    Nodes[i] = learner.sz\n",
    "\n",
    "plt.plot(maxdValues, Nodes, marker='o', \n",
    "          color = \"red\", label = \"minParent = 2\")\n",
    "\n",
    "## increasing minParent:\n",
    "for i, d in enumerate(maxdValues): \n",
    "    learner.train(Xt, Yt, maxDepth = d, minParent = 4)\n",
    "    Nodes[i] = learner.sz\n",
    "    \n",
    "plt.plot(maxdValues, Nodes, marker='^', \n",
    "          color = \"blue\", label = \"minParent = 4\")\n",
    "\n",
    "plt.xticks(maxdValues)\n",
    "plt.xlabel(\"maxDepth\")\n",
    "plt.ylabel(\"Number of Nodes\")\n",
    "plt.title(\"Plot of Nodes Number vs. maxDepth\")\n",
    "plt.legend()\n",
    "plt.show()\n"
   ]
  },
  {
   "cell_type": "markdown",
   "metadata": {},
   "source": [
    "**3. The value of maxDepth is fixed to 15 and the AUC of the training and validation datasets are plotted against varying values of the minParent and minLeaf hyper-parameters in a 2D plot to help select the best value of minParent and minLeaf.** "
   ]
  },
  {
   "cell_type": "code",
   "execution_count": null,
   "metadata": {},
   "outputs": [],
   "source": [
    "PValues = range(1,21,4) \n",
    "LValues = range(1,11,2)\n",
    "\n",
    "tr_auc = np.zeros((len(PValues),len(LValues)))\n",
    "va_auc = np.zeros((len(PValues),len(LValues)))\n",
    "\n",
    "for i,p in enumerate(PValues):\n",
    "    for j,l in enumerate(LValues):\n",
    "        learner = ml.dtree.treeClassify()\n",
    "        learner.train(Xt, Yt, maxDepth = 15, minParent = p, minLeaf= l)\n",
    "        tr_auc[i][j] = learner.auc(Xt, Yt) # train learner using k and a\n",
    "        va_auc[i][j] = learner.auc(Xva, Yva)\n",
    "\n",
    "f, ax = plt.subplots(1, 1, figsize=(8, 5))\n",
    "cax1 = ax.matshow(tr_auc, interpolation='nearest')\n",
    "f.colorbar(cax1)\n",
    "ax.set_xticklabels(['']+LValues)\n",
    "ax.set_yticklabels(['']+PValues)\n",
    "ax.set_xlabel(\"minLeaf\")\n",
    "ax.set_ylabel(\"minParent\")\n",
    "ax.set_title(\"Training AUC\")\n",
    "\n",
    "plt.show()\n",
    "\n",
    "print (\"Train AUC:\",tr_auc)"
   ]
  },
  {
   "cell_type": "code",
   "execution_count": null,
   "metadata": {},
   "outputs": [],
   "source": [
    "f, ax = plt.subplots(1, 1, figsize=(8, 5))\n",
    "cax2 = ax.matshow(va_auc, interpolation='nearest')\n",
    "f.colorbar(cax2)\n",
    "ax.set_xticklabels(['']+LValues)\n",
    "ax.set_yticklabels(['']+PValues)\n",
    "ax.set_xlabel(\"minLeaf\")\n",
    "ax.set_ylabel(\"minParent\")\n",
    "ax.set_title(\"Validation AUC\")\n",
    "\n",
    "plt.show() \n",
    "\n",
    "print (\"Validation AUC:\",va_auc)"
   ]
  },
  {
   "cell_type": "markdown",
   "metadata": {},
   "source": [
    "**Based on the plots above the best values of the parameters are:\n",
    "minParent = \n",
    "minLeaf = **"
   ]
  },
  {
   "cell_type": "markdown",
   "metadata": {},
   "source": [
    "### 6: Neural Networks\n",
    "\n",
    "**1. The no. of hidden layers and the nodes in each layer are varied as per `size` and the AUC of the training and validation dataset is shown as below. The weights of the neural net are initialized randomly. \n",
    "Following this the 2D plot of the no. of hidden layers and no. of nodes in each layer is plotted for the training and validation datasets and the best possible value of the hyper-parameters is chosen for the neural network.**"
   ]
  },
  {
   "cell_type": "code",
   "execution_count": null,
   "metadata": {},
   "outputs": [],
   "source": [
    "layers = range(1,6,1) \n",
    "nodes = range(2,7,1) \n",
    "\n",
    "auc_tr = np.zeros((len(layers),len(nodes)))\n",
    "auc_va = np.zeros((len(layers),len(nodes)))\n",
    "\n",
    "for i, layer in enumerate(layers):\n",
    "    for j, node in enumerate(nodes):\n",
    "        nn = ml.nnet.nnetClassify()\n",
    "        size = [XtS.shape[1]] + layer*[node] + [2]\n",
    "        nn.init_weights(size, 'random', XtS, Yt)\n",
    "        nn.train(XtS, Yt, stopTol=1e-8, stepsize=.25, stopIter=300)\n",
    "        auc_tr[i][j] = nn.auc(XtS, Yt) \n",
    "        auc_va[i][j] = nn.auc(XvS, Yva)\n",
    "\n",
    "print (\"Training AUC:\", auc_tr)\n",
    "print (\"Validation AUC:\", auc_va)"
   ]
  },
  {
   "cell_type": "code",
   "execution_count": null,
   "metadata": {},
   "outputs": [],
   "source": [
    "f, ax = plt.subplots(1, 1, figsize=(8, 5))\n",
    "cax1 = ax.matshow(auc_tr, interpolation='nearest')\n",
    "f.colorbar(cax1)\n",
    "ax.set_xticklabels(['']+nodes)\n",
    "ax.set_yticklabels(['']+layers)\n",
    "\n",
    "plt.show()"
   ]
  },
  {
   "cell_type": "code",
   "execution_count": null,
   "metadata": {},
   "outputs": [],
   "source": [
    "f, ax = plt.subplots(1, 1, figsize=(8, 5))\n",
    "cax2 = ax.matshow(auc_va, interpolation='nearest')\n",
    "f.colorbar(cax2)\n",
    "ax.set_xticklabels(['']+nodes)\n",
    "ax.set_yticklabels(['']+layers)\n",
    "\n",
    "plt.show()"
   ]
  },
  {
   "cell_type": "markdown",
   "metadata": {},
   "source": [
    "**As can be seen from the plots above the best possible values of the hyper-parameters are:\n",
    "No. of hidden layers:\n",
    "No. of nodes in each layer: **"
   ]
  },
  {
   "cell_type": "markdown",
   "metadata": {},
   "source": [
    "**2. The custom activation function is defined to as a gaussian function. The neural net is then trained on the  training dataset and the Train and validation AUC shown. The same is done for the built-in logistic and htangent activation functions and their relative performance compared.** "
   ]
  },
  {
   "cell_type": "code",
   "execution_count": null,
   "metadata": {},
   "outputs": [],
   "source": [
    "## Custom Activation Function (Gaussian):\n",
    "sig = lambda z: np.atleast_2d(np.exp(-z**2/2))\n",
    "dsig = lambda z: np.atleast_2d(-z*np.exp(-z**2/2))\n",
    "\n",
    "nn = ml.nnet.nnetClassify()\n",
    "nn.init_weights([XtS.shape[1], 6, 6, 2], 'random', XtS, Yt)\n",
    "nn.setActivation('custom', sig, dsig)\n",
    "\n",
    "nn.train(XtS, Yt, stopTol=1e-8, stepsize=.25, stopIter=100)\n",
    "\n",
    "print(\"{0:>15}: {1:.4f}\".format('Custom Train AUC (Gaussian)',nn.auc(XtS, Yt)))\n",
    "print(\"{0:>15}: {1:.4f}\".format('Custom Validation AUC (Gaussian)', nn.auc(XvS, Yva)))"
   ]
  },
  {
   "cell_type": "code",
   "execution_count": null,
   "metadata": {},
   "outputs": [],
   "source": [
    "# Logistic Activation Function\n",
    "nn = ml.nnet.nnetClassify()\n",
    "nn.init_weights([XtS.shape[1], 6, 6, 2], 'random', XtS, Yt)\n",
    "nn.setActivation('logistic')\n",
    "\n",
    "nn.train(XtS, Yt, stopTol=1e-8, stepsize=.25, stopIter=300)\n",
    "\n",
    "print(\"{0:>15}: {1:.4f}\".format('Logistic Train AUC',nn.auc(XtS, Yt)))\n",
    "print(\"{0:>15}: {1:.4f}\".format('Logistic Validation AUC', nn.auc(XvS, Yva)))"
   ]
  },
  {
   "cell_type": "code",
   "execution_count": null,
   "metadata": {},
   "outputs": [],
   "source": [
    "# Htangent Activation Function\n",
    "nn = ml.nnet.nnetClassify()\n",
    "nn.init_weights([XtS.shape[1], 6, 6, 2], 'random', XtS, Yt)\n",
    "nn.setActivation('htangent')\n",
    "\n",
    "nn.train(XtS, Yt, stopTol=1e-8, stepsize=.25, stopIter=300)\n",
    "\n",
    "print(\"{0:>15}: {1:.4f}\".format('Htangent Train AUC',nn.auc(XtS, Yt)))\n",
    "print(\"{0:>15}: {1:.4f}\".format('Htangent Validation AUC', nn.auc(XvS, Yva)))"
   ]
  },
  {
   "cell_type": "markdown",
   "metadata": {},
   "source": [
    "**From the comparison above we can conclude that the Htangent activation function has best performance on Train and Validation AUC as compared to Logistic and the custom (gaussian) activation functions.**"
   ]
  },
  {
   "cell_type": "markdown",
   "metadata": {},
   "source": [
    "### Statement of Collaboration\n",
    "\n",
    "I completed this assignment on my own, without any collaboration with fellow students. I referred to discussions on Piazza to clear any doubts before starting on the project. After starting the assignment, I kept track of any clarifications made on Piazza to ensure nothing was missed by me."
   ]
  }
 ],
 "metadata": {
  "kernelspec": {
   "display_name": "Python 3",
   "language": "python",
   "name": "python3"
  },
  "language_info": {
   "codemirror_mode": {
    "name": "ipython",
    "version": 3
   },
   "file_extension": ".py",
   "mimetype": "text/x-python",
   "name": "python",
   "nbconvert_exporter": "python",
   "pygments_lexer": "ipython3",
   "version": "3.7.1"
  }
 },
 "nbformat": 4,
 "nbformat_minor": 2
}
